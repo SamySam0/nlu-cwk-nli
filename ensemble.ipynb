{
 "cells": [
  {
   "cell_type": "markdown",
   "id": "8ce3bdee",
   "metadata": {},
   "source": [
    "## Setup"
   ]
  },
  {
   "cell_type": "code",
   "execution_count": null,
   "id": "8a27a47d",
   "metadata": {},
   "outputs": [],
   "source": [
    "# Dependencies to run the notebook \n",
    "# Uncomment below to install - may require additional installations depending on your python version\n",
    "\n",
    "# python version == 3.10.14\n",
    "# %pip install tensorflow==2.14.0 keras-self-attention transformers datasets scikit-learn accelerate -U --quiet"
   ]
  },
  {
   "cell_type": "code",
   "execution_count": null,
   "id": "90fe6f89",
   "metadata": {},
   "outputs": [],
   "source": [
    "from datasets import load_dataset, load_from_disk\n",
    "from transformers import RobertaTokenizerFast, RobertaModel\n",
    "\n",
    "import tensorflow as tf\n",
    "from tensorflow.keras.callbacks import EarlyStopping\n",
    "from tensorflow.keras.models import Sequential\n",
    "from tensorflow.keras.layers import LSTM, Dense, Embedding, Dropout, GlobalAveragePooling1D, Flatten, SpatialDropout1D, Bidirectional, \\\n",
    "                                    Input, Attention, Lambda, AdditiveAttention\n",
    "from tensorflow.keras.optimizers.legacy import Adam\n",
    "\n",
    "import keras, random\n",
    "from keras_self_attention import SeqSelfAttention\n",
    "\n",
    "import numpy as np\n",
    "from sklearn.metrics import f1_score, precision_score, recall_score, roc_auc_score, accuracy_score"
   ]
  },
  {
   "cell_type": "code",
   "execution_count": null,
   "id": "fa5dc88e",
   "metadata": {},
   "outputs": [],
   "source": [
    "# Pretrained model's name from HuggingFace for embeddings\n",
    "EMB_MODEL_NAME = 'roberta-base'\n",
    "\n",
    "# Fine-tuned model path (best model after hyperparameter tuning)\n",
    "ENSEMBLE_PATH = './ensemble/models_2'\n",
    "\n",
    "# Path to dataset in which all *.csv files are stored\n",
    "DATASET_PATH = './data'\n",
    "TRAIN_FILE_NAME, VAL_FILE_NAME = 'train.csv', 'dev.csv'\n",
    "\n",
    "# Path to hyperparameter tuning logs\n",
    "LOG_PATH = 'ensemble_logs.txt'"
   ]
  },
  {
   "cell_type": "markdown",
   "id": "30c52949",
   "metadata": {},
   "source": [
    "## Data preparation"
   ]
  },
  {
   "cell_type": "code",
   "execution_count": null,
   "id": "dc968611",
   "metadata": {},
   "outputs": [],
   "source": [
    "# Load training and validation datasets from csv files as a DatasetDict\n",
    "data_files = {\"train\": TRAIN_FILE_NAME, \"validation\": VAL_FILE_NAME}\n",
    "dataset = load_dataset(\"csv\", data_dir=DATASET_PATH, data_files=data_files)\n",
    "dataset"
   ]
  },
  {
   "cell_type": "code",
   "execution_count": null,
   "id": "38791fd9",
   "metadata": {},
   "outputs": [],
   "source": [
    "# Load embedding model and tokenizer\n",
    "embedding_model = RobertaModel.from_pretrained(EMB_MODEL_NAME)\n",
    "tokenizer = RobertaTokenizerFast.from_pretrained(EMB_MODEL_NAME)"
   ]
  },
  {
   "cell_type": "code",
   "execution_count": null,
   "id": "94d4f521",
   "metadata": {},
   "outputs": [],
   "source": [
    "def text_preprocessing(samples):\n",
    "    ''' Replace None instances in hypothesis by empty strings. '''\n",
    "    samples['hypothesis'] = \"\" if samples['hypothesis'] is None else samples['hypothesis']\n",
    "    return samples\n",
    "\n",
    "# Preprocess texts (hypothesis) from the dataset\n",
    "dataset = dataset.map(text_preprocessing, batched=False)"
   ]
  },
  {
   "cell_type": "code",
   "execution_count": null,
   "id": "8d84edad",
   "metadata": {},
   "outputs": [],
   "source": [
    "def text_tokenization(samples):\n",
    "    ''' Tokenize the premise and hypothesis into sentence pair classification format. \n",
    "        Truncate to 150 tokens and pad to max length. \n",
    "        By using 150 max-length, 99.4% of training samples are left untruncated.\n",
    "    '''\n",
    "    return tokenizer(samples['premise'], samples['hypothesis'], truncation=True, max_length=150, padding='max_length', return_tensors='pt') \n",
    "\n",
    "# Tokenize dataset (premises and hypothesis) for sentence pair classification\n",
    "tokenized_dataset = dataset.map(text_tokenization, batched=False, remove_columns=['premise', 'hypothesis'])\n",
    "tokenized_dataset.set_format('pt', columns=['input_ids', 'attention_mask'], output_all_columns=True)\n",
    "tokenized_dataset"
   ]
  },
  {
   "cell_type": "code",
   "execution_count": null,
   "id": "7932c615",
   "metadata": {},
   "outputs": [],
   "source": [
    "def get_embeddings(samples):\n",
    "    ''' Get the embeddings from the embedding model. This allows to not include\n",
    "        the embedding model within each model's architecture in the ensemble. \n",
    "    '''\n",
    "    embeddings = embedding_model(samples['input_ids'], attention_mask=samples['attention_mask']).last_hidden_state.detach().cpu()\n",
    "    samples['embeddings'] = embeddings[0]\n",
    "    return samples\n",
    "\n",
    "# Get embeddings from tokenized samples through the RoBERTa-Base model\n",
    "dataset = tokenized_dataset.map(get_embeddings, batched=False, remove_columns=['input_ids', 'attention_mask'])"
   ]
  },
  {
   "cell_type": "markdown",
   "id": "00b0618f",
   "metadata": {},
   "source": [
    "## Ensemble preparation"
   ]
  },
  {
   "cell_type": "code",
   "execution_count": null,
   "id": "ede22065",
   "metadata": {},
   "outputs": [],
   "source": [
    "# Model parameters\n",
    "sample_size = 150\n",
    "embedding_dim = 768\n",
    "n_lstm = 128\n",
    "drop_lstm = 0.2\n",
    "optimizer = 'adam'\n",
    "batch_size = 12\n",
    "\n",
    "# Hyperparameters to tune\n",
    "ensemble_size = 25\n",
    "max_epochs = [1, 2, 3, 5, 8] # 8"
   ]
  },
  {
   "cell_type": "code",
   "execution_count": null,
   "id": "ee204b9e",
   "metadata": {},
   "outputs": [
    {
     "name": "stderr",
     "output_type": "stream",
     "text": [
      "2024-04-23 23:54:59.385729: I tensorflow/core/common_runtime/gpu/gpu_device.cc:1886] Created device /job:localhost/replica:0/task:0/device:GPU:0 with 14791 MB memory:  -> device: 0, name: Tesla V100-SXM2-16GB, pci bus id: 0000:1d:00.0, compute capability: 7.0\n"
     ]
    }
   ],
   "source": [
    "# Putting datasets into tensors and caching them in memory to avoid loading them at each epoch\n",
    "training_data = tf.data.Dataset.from_tensor_slices((dataset['train']['embeddings'][:-1000], np.array(dataset['train']['label'][:-1000]).astype(np.int32)))\n",
    "training_data = training_data.batch(batch_size=batch_size).cache() \n",
    "\n",
    "valid_data_x = tf.data.Dataset.from_tensor_slices(dataset['validation']['embeddings'])\n",
    "valid_data_x = valid_data_x.batch(batch_size=batch_size).cache()\n",
    "valid_data_y = np.array(dataset['validation']['label']).astype(np.int32)"
   ]
  },
  {
   "cell_type": "code",
   "execution_count": null,
   "id": "88d44dd8",
   "metadata": {},
   "outputs": [],
   "source": [
    "models = []\n",
    "bootstrap_datasets_idx = []\n",
    "\n",
    "# Initialise each learner of the ensemble\n",
    "for _ in range(ensemble_size):\n",
    "    \n",
    "    # Learner initialisation\n",
    "    model = Sequential()\n",
    "    model.add(Input(shape=(sample_size, embedding_dim), dtype='float32'))\n",
    "    model.add(Bidirectional(LSTM(units=n_lstm, return_sequences=True)))\n",
    "    model.add(SeqSelfAttention(attention_activation='sigmoid'))\n",
    "    model.add(Dropout(drop_lstm))\n",
    "    model.add(GlobalAveragePooling1D())\n",
    "    model.add(Dense(1, activation='sigmoid'))\n",
    "    model.compile(\n",
    "        optimizer=optimizer,\n",
    "        loss='binary_crossentropy',\n",
    "        metrics=['accuracy'],\n",
    "    )\n",
    "    \n",
    "    models.append(model)\n",
    "    \n",
    "    # Bootstraping: Given the training dataset of size n, we randomly select n samples, with replacement.\n",
    "    dataset_idx = [random.randint(0, len(dataset['train'])-1) for _ in range(len(dataset['train']))]\n",
    "    bootstrap_datasets_idx.append(dataset_idx)\n"
   ]
  },
  {
   "cell_type": "code",
   "execution_count": null,
   "id": "adbfb3db",
   "metadata": {},
   "outputs": [],
   "source": [
    "def predict_ensemble(models, test_data, nb_samples):\n",
    "    ''' Function to predict the ensemble model's predictions on a test dataset.\n",
    "        Each model makes its prediction and the ensemble model computes the \n",
    "        geometric mean over all predictions as its final output.\n",
    "    '''\n",
    "    m = len(models)\n",
    "    preds_C1 = np.zeros((m, nb_samples))\n",
    "    preds_C2 = np.zeros((m, nb_samples))\n",
    "    \n",
    "    all_norm_C1, all_norm_C2 = [], []\n",
    "\n",
    "    # Collect predictions\n",
    "    for i, model in enumerate(models):\n",
    "        preds = model.predict(test_data, batch_size=batch_size).squeeze()  # Ensure we have a 1D array per model\n",
    "        preds_C1[i] = preds\n",
    "        preds_C2[i] = 1 - preds\n",
    "    \n",
    "        # Calculate the product along the 'model' axis and then take the m-th root to compute the geometric mean.\n",
    "        geom_mean_C1 = np.power(np.prod(preds_C1[:i+1], axis=0), 1/(i+1))\n",
    "        geom_mean_C2 = np.power(np.prod(preds_C2[:i+1], axis=0), 1/(i+1))\n",
    "\n",
    "        # Compute normalization constant Z for each sample\n",
    "        Z = geom_mean_C1 + geom_mean_C2\n",
    "\n",
    "        # Normalize probabilities\n",
    "        normalized_C1 = geom_mean_C1 / Z\n",
    "        normalized_C2 = geom_mean_C2 / Z\n",
    "        \n",
    "        all_norm_C1.append(normalized_C1)\n",
    "        all_norm_C2.append(normalized_C2)\n",
    "\n",
    "    return all_norm_C1, all_norm_C2"
   ]
  },
  {
   "cell_type": "markdown",
   "id": "c5307b95",
   "metadata": {},
   "source": [
    "## Evaluation preparation"
   ]
  },
  {
   "cell_type": "code",
   "execution_count": null,
   "id": "36058aea",
   "metadata": {},
   "outputs": [],
   "source": [
    "def compute_metrics(predictions, labels):\n",
    "    ''' Function to calculate metrics given model predictions and expected labels. \n",
    "        Metrics: F1 (micro/macro/wei), Precision (macro), Recall (macro), ROC (macro), and Accuracy.\n",
    "        We use macro averages as the classes are imbalanced.\n",
    "    '''\n",
    "    return {\n",
    "        \"F1_micro\": f1_score(labels, predictions, average='micro'),\n",
    "        \"F1_macro\": f1_score(labels, predictions, average='macro'),\n",
    "        \"F1_weighted\": f1_score(labels, predictions, average='weighted'),\n",
    "        \"Precision_macro\": precision_score(labels, predictions, average='macro'),\n",
    "        \"Recall_macro\": recall_score(labels, predictions, average='macro'),\n",
    "        \"ROC_macro\": roc_auc_score(labels, predictions, average = 'macro'),\n",
    "        \"Accuracy\": accuracy_score(labels, predictions),\n",
    "    }"
   ]
  },
  {
   "cell_type": "code",
   "execution_count": null,
   "id": "4241af4c",
   "metadata": {},
   "outputs": [],
   "source": [
    "def evaluate_ensemble(ensemble, inputs, labels):\n",
    "    ''' Function to evaluate the ensemble model on a validation dataset.\n",
    "    '''\n",
    "    all_normalized_C1, _ = predict_ensemble(ensemble, inputs, nb_samples=len(labels))\n",
    "    all_metrics = []\n",
    "    for norm_C1 in all_normalized_C1:\n",
    "        predictions = np.array([1 if s >= 0.5 else 0 for s in norm_C1])\n",
    "        all_metrics.append(compute_metrics(predictions, labels))\n",
    "    return all_metrics"
   ]
  },
  {
   "cell_type": "markdown",
   "id": "73af6daf",
   "metadata": {},
   "source": [
    "## Hyperparameter tuning & Training"
   ]
  },
  {
   "cell_type": "code",
   "execution_count": null,
   "id": "697ea0b9",
   "metadata": {},
   "outputs": [],
   "source": [
    "# Epochs: 1 -> X\n",
    "for epoch in range(len(max_epochs)):\n",
    "    \n",
    "    # Train all models in ensemble for x additional epochs\n",
    "    for model_idx, model in enumerate(models):\n",
    "        # training_data = dataset['train'].select(bootstrap_datasets_idx[model_idx]) # bagging\n",
    "        model.fit(\n",
    "            training_data, \n",
    "            epochs=max(1, max_epochs[epoch]-max_epochs[epoch-1])\n",
    "        )\n",
    "        model.save(f'{ENSEMBLE_PATH}/m{model_idx}_e{max_epochs[epoch]}.h5')\n",
    "        print(f'{model_idx}_{max_epochs[epoch]} Done!')\n",
    "    \n",
    "    # Evaluate ensemble with 1 to N models in ensemble\n",
    "    ensemble_scores = {\n",
    "        'F1_macro':[], 'F1_weighted':[], 'Precision_macro':[], \n",
    "        'Recall_macro':[], 'ROC_macro':[], 'Accuracy':[],\n",
    "    }\n",
    "    ensemble_score = evaluate_ensemble(\n",
    "        ensemble = models,\n",
    "        inputs = valid_data_x,\n",
    "        labels = valid_data_y,\n",
    "    )\n",
    "    for scores in ensemble_score:\n",
    "        for metric, score in scores.items():\n",
    "            ensemble_scores[metric].append(score)\n",
    "    \n",
    "    # Save score logs\n",
    "    with open(LOG_PATH, 'a+') as log_file:\n",
    "        log_file.write(f'Epoch: {max_epochs[epoch]}\\n')\n",
    "        for metric, scores in ensemble_scores.items():\n",
    "            log_file.write(f'{metric} --> {\" \".join([str(i) for i in scores])}\\n')\n",
    "        log_file.write('\\n\\n')\n"
   ]
  },
  {
   "cell_type": "markdown",
   "id": "e6d7381c",
   "metadata": {},
   "source": [
    "## Best model evaluation"
   ]
  },
  {
   "cell_type": "code",
   "execution_count": null,
   "id": "49ee5da0",
   "metadata": {},
   "outputs": [],
   "source": [
    "# Best model is 11 learners over 8 epochs and is selected manually based on validation accuracy\n",
    "final_ensemble = models[:11]"
   ]
  },
  {
   "cell_type": "code",
   "execution_count": null,
   "id": "36b0e8e5",
   "metadata": {},
   "outputs": [],
   "source": [
    "# Evaluate final ensemble on validation dataset\n",
    "ensemble_score = evaluate_ensemble(\n",
    "    ensemble = final_ensemble,\n",
    "    inputs = valid_data_x,\n",
    "    labels = valid_data_y,\n",
    ")[-1]"
   ]
  },
  {
   "cell_type": "code",
   "execution_count": null,
   "id": "98139ef4",
   "metadata": {},
   "outputs": [],
   "source": [
    "# Display final ensemble scores\n",
    "for metric, score in ensemble_score.items():\n",
    "    print(f'{metric}: {score}.')"
   ]
  }
 ],
 "metadata": {
  "kernelspec": {
   "display_name": "sam_env",
   "language": "python",
   "name": "sam_env"
  },
  "language_info": {
   "codemirror_mode": {
    "name": "ipython",
    "version": 3
   },
   "file_extension": ".py",
   "mimetype": "text/x-python",
   "name": "python",
   "nbconvert_exporter": "python",
   "pygments_lexer": "ipython3",
   "version": "3.10.14"
  }
 },
 "nbformat": 4,
 "nbformat_minor": 5
}
