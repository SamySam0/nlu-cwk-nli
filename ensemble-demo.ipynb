{
 "cells": [
  {
   "cell_type": "markdown",
   "metadata": {},
   "source": [
    "## Setup"
   ]
  },
  {
   "cell_type": "code",
   "execution_count": 1,
   "metadata": {},
   "outputs": [],
   "source": [
    "# Dependencies to run the notebook \n",
    "# Uncomment below to install - may require additional installations depending on your python version\n",
    "\n",
    "# python version == 3.10.14\n",
    "# %pip install tensorflow==2.14.0 keras-self-attention transformers datasets scikit-learn accelerate -U --quiet"
   ]
  },
  {
   "cell_type": "code",
   "execution_count": null,
   "metadata": {},
   "outputs": [],
   "source": [
    "import keras\n",
    "import numpy as np\n",
    "import tensorflow as tf\n",
    "from datasets import load_dataset\n",
    "from transformers import RobertaTokenizerFast, RobertaModel\n",
    "from sklearn.metrics import f1_score, precision_score, recall_score, roc_auc_score, accuracy_score\n",
    "from keras_self_attention import SeqSelfAttention"
   ]
  },
  {
   "cell_type": "code",
   "execution_count": 3,
   "metadata": {},
   "outputs": [],
   "source": [
    "# Pretrained model's name from HuggingFace used for embeddings\n",
    "EMB_MODEL_NAME = 'roberta-base'\n",
    "\n",
    "# Path to all models of the ensemble\n",
    "ENSEMBLE_PATH = './ensemble/models'\n",
    "ENSEMBLE_SIZE = 11\n",
    "BATCH_SIZE = 12\n",
    "\n",
    "# Path to dataset in which the test file (xxx.csv) is located\n",
    "DATASET_PATH = './data'\n",
    "TEST_FILE_NAME = 'test.csv'\n",
    "\n",
    "# Path to save the predictions\n",
    "PREDICTION_PATH = './ensemble'"
   ]
  },
  {
   "cell_type": "code",
   "execution_count": 10,
   "metadata": {},
   "outputs": [],
   "source": [
    "# Do evaluation on top of predictions?\n",
    "EVALUATE = False"
   ]
  },
  {
   "cell_type": "markdown",
   "metadata": {},
   "source": [
    "## Data preparation"
   ]
  },
  {
   "cell_type": "code",
   "execution_count": 5,
   "metadata": {},
   "outputs": [
    {
     "name": "stderr",
     "output_type": "stream",
     "text": [
      "Generating test split: 3302 examples [00:00, 182927.08 examples/s]\n"
     ]
    },
    {
     "data": {
      "text/plain": [
       "DatasetDict({\n",
       "    test: Dataset({\n",
       "        features: ['premise', 'hypothesis'],\n",
       "        num_rows: 3302\n",
       "    })\n",
       "})"
      ]
     },
     "execution_count": 5,
     "metadata": {},
     "output_type": "execute_result"
    }
   ],
   "source": [
    "# Load testing dataset from csv file as a DatasetDict\n",
    "data_files = {\"test\": TEST_FILE_NAME}\n",
    "raw_dataset = load_dataset(\"csv\", data_dir=DATASET_PATH, data_files=data_files)\n",
    "raw_dataset"
   ]
  },
  {
   "cell_type": "code",
   "execution_count": null,
   "metadata": {},
   "outputs": [],
   "source": [
    "# Load embedding model and tokenizer\n",
    "embedding_model = RobertaModel.from_pretrained(EMB_MODEL_NAME)\n",
    "tokenizer = RobertaTokenizerFast.from_pretrained(EMB_MODEL_NAME)"
   ]
  },
  {
   "cell_type": "code",
   "execution_count": 7,
   "metadata": {},
   "outputs": [],
   "source": [
    "# Load data processing functions\n",
    "def text_preprocessing(samples):\n",
    "    ''' Replace None instances in hypothesis by empty strings. '''\n",
    "    samples['hypothesis'] = \"\" if samples['hypothesis'] is None else samples['hypothesis']\n",
    "    return samples\n",
    "\n",
    "def text_tokenization(samples):\n",
    "    ''' Tokenize the premise and hypothesis into sentence pair classification format. \n",
    "        Truncate to 150 tokens and pad to max length. \n",
    "        By using 150 max-length, 99.4% of training samples are left untruncated.\n",
    "    '''\n",
    "    return tokenizer(samples['premise'], samples['hypothesis'], truncation=True, max_length=150, padding='max_length', return_tensors='pt') \n",
    "\n",
    "def get_embeddings(samples):\n",
    "    ''' Get the embeddings from the embedding model. This allows to not include\n",
    "        the embedding model within each model's architecture in the ensemble. \n",
    "    '''\n",
    "    embeddings = embedding_model(samples['input_ids'], attention_mask=samples['attention_mask']).last_hidden_state.detach().cpu()\n",
    "    samples['embeddings'] = embeddings[0]\n",
    "    return samples"
   ]
  },
  {
   "cell_type": "code",
   "execution_count": 8,
   "metadata": {},
   "outputs": [
    {
     "name": "stderr",
     "output_type": "stream",
     "text": [
      "Map: 100%|██████████| 3302/3302 [00:00<00:00, 67822.33 examples/s]\n",
      "Map: 100%|██████████| 3302/3302 [00:00<00:00, 7176.79 examples/s]\n",
      "Map: 100%|██████████| 3302/3302 [02:41<00:00, 20.39 examples/s]\n"
     ]
    }
   ],
   "source": [
    "# Preprocess texts (hypothesis)\n",
    "raw_dataset = raw_dataset.map(text_preprocessing, batched=False)\n",
    "\n",
    "# Tokenize dataset (premises and hypothesis) for sentence pair classification\n",
    "tokenized_dataset = raw_dataset.map(text_tokenization, batched=False, remove_columns=['premise', 'hypothesis'])\n",
    "tokenized_dataset.set_format('pt', columns=['input_ids', 'attention_mask'], output_all_columns=True)\n",
    "\n",
    "# Get embeddings from tokenized samples through the RoBERTa-Base model\n",
    "dataset = tokenized_dataset.map(get_embeddings, batched=False, remove_columns=['input_ids', 'attention_mask'])"
   ]
  },
  {
   "cell_type": "code",
   "execution_count": 11,
   "metadata": {},
   "outputs": [],
   "source": [
    "# Put data into sensors and cache them for fast GPU access\n",
    "inputs_unbatched = tf.data.Dataset.from_tensor_slices(dataset['test']['embeddings'])\n",
    "inputs = inputs_unbatched.batch(batch_size=BATCH_SIZE).cache()\n",
    "\n",
    "# Put labels into sensors if doing evaluation \n",
    "if EVALUATE:\n",
    "    labels = np.array(dataset['test']['label']).astype(np.int32)"
   ]
  },
  {
   "cell_type": "markdown",
   "metadata": {},
   "source": [
    "## Predict with ensemble of models"
   ]
  },
  {
   "cell_type": "code",
   "execution_count": null,
   "metadata": {},
   "outputs": [],
   "source": [
    "ensemble_models = []\n",
    "\n",
    "# Load all trained models of the ensemble from ENSEMBLE_PATH folder\n",
    "for model_idx in range(ENSEMBLE_SIZE):\n",
    "    ensemble_models.append(\n",
    "        tf.keras.models.load_model(\n",
    "            f'{ENSEMBLE_PATH}/{model_idx}_F.h5', \n",
    "            custom_objects=SeqSelfAttention.get_custom_objects()\n",
    "        )\n",
    "    )"
   ]
  },
  {
   "cell_type": "code",
   "execution_count": 13,
   "metadata": {},
   "outputs": [],
   "source": [
    "def predict_ensemble(models, test_data, nb_samples):\n",
    "    ''' Function to predict the ensemble model's predictions on a test dataset.\n",
    "        Each model makes its prediction and the ensemble model computes the \n",
    "        geometric mean over all predictions as its final output.\n",
    "    '''\n",
    "    m = len(models)\n",
    "    preds_C1 = np.zeros((m, nb_samples))\n",
    "    preds_C2 = np.zeros((m, nb_samples))\n",
    "\n",
    "    # Collect predictions\n",
    "    for i, model in enumerate(models):\n",
    "        preds = model.predict(test_data, batch_size=BATCH_SIZE).squeeze()  # Ensure we have a 1D array per model\n",
    "        preds_C1[i] = preds\n",
    "        preds_C2[i] = 1 - preds\n",
    "    \n",
    "    # Calculate the product along the 'model' axis and then take the m-th root to compute the geometric mean.\n",
    "    geom_mean_C1 = np.power(np.prod(preds_C1, axis=0), 1/m)\n",
    "    geom_mean_C2 = np.power(np.prod(preds_C2, axis=0), 1/m)\n",
    "\n",
    "    # Compute normalization constant Z for each sample\n",
    "    Z = geom_mean_C1 + geom_mean_C2\n",
    "\n",
    "    # Normalize probabilities\n",
    "    normalized_C1 = geom_mean_C1 / Z\n",
    "    normalized_C2 = geom_mean_C2 / Z\n",
    "\n",
    "    # Get predictions\n",
    "    predictions = np.array([1 if s >= 0.5 else 0 for s in normalized_C1])\n",
    "\n",
    "    return predictions"
   ]
  },
  {
   "cell_type": "code",
   "execution_count": 14,
   "metadata": {},
   "outputs": [
    {
     "name": "stdout",
     "output_type": "stream",
     "text": [
      "276/276 [==============================] - 12s 42ms/step\n",
      "276/276 [==============================] - 11s 38ms/step\n",
      "276/276 [==============================] - 12s 43ms/step\n",
      "276/276 [==============================] - 12s 43ms/step\n",
      "276/276 [==============================] - 13s 46ms/step\n",
      "276/276 [==============================] - 12s 43ms/step\n",
      "276/276 [==============================] - 11s 40ms/step\n",
      "276/276 [==============================] - 11s 41ms/step\n",
      "276/276 [==============================] - 11s 39ms/step\n",
      "276/276 [==============================] - 12s 42ms/step\n",
      "276/276 [==============================] - 10s 37ms/step\n"
     ]
    }
   ],
   "source": [
    "# Get predictions from the ensemble\n",
    "predictions = predict_ensemble(ensemble_models, inputs, nb_samples=len(inputs_unbatched))"
   ]
  },
  {
   "cell_type": "code",
   "execution_count": 19,
   "metadata": {},
   "outputs": [
    {
     "name": "stdout",
     "output_type": "stream",
     "text": [
      "Premise: Boy wearing red hat, blue jacket pushing plow in snow.\n",
      "Hypothesis: The boy is surrounded by snow\n",
      "Prediction: 1 \n",
      "\n",
      "Premise: A blond woman in a black shirt is standing behind a counter.\n",
      "Hypothesis: The woman is standing.\n",
      "Prediction: 1 \n",
      "\n",
      "Premise: Three people in uniform are outdoors and are observing a scene which is out of the picture.\n",
      "Hypothesis: Uniformed people are outside\n",
      "Prediction: 1 \n",
      "\n",
      "Premise: A person, in a striped blue shirt and pants, is running along.\n",
      "Hypothesis: The person is running\n",
      "Prediction: 1 \n",
      "\n",
      "Premise: A man, woman, and child get their picture taken in front of the mountains.\n",
      "Hypothesis: A family on vacation is posing.\n",
      "Prediction: 1 \n",
      "\n"
     ]
    }
   ],
   "source": [
    "# Peacking at the first four predictions\n",
    "for i in range(5):\n",
    "    print('Premise:', raw_dataset['test'][i]['premise'])\n",
    "    print('Hypothesis:', raw_dataset['test'][i]['hypothesis'])\n",
    "    print('Prediction:', predictions[i], '\\n')"
   ]
  },
  {
   "cell_type": "code",
   "execution_count": 16,
   "metadata": {},
   "outputs": [],
   "source": [
    "# Write predictions to a csv file with one column (prediction)\n",
    "with open(f'{PREDICTION_PATH}/ensemble-predictions.csv', 'w') as f:\n",
    "    f.write('prediction\\n')\n",
    "    for pred in predictions:\n",
    "        f.write(f'{pred}\\n')"
   ]
  },
  {
   "cell_type": "markdown",
   "metadata": {},
   "source": [
    "## Evaluation (optional)"
   ]
  },
  {
   "cell_type": "code",
   "execution_count": null,
   "metadata": {},
   "outputs": [],
   "source": [
    "def compute_metrics(predictions, labels):\n",
    "    ''' Function to calculate metrics given model predictions and expected labels. \n",
    "        Metrics: F1 (micro/macro/wei), Precision (macro), Recall (macro), ROC (macro), and Accuracy.\n",
    "        We use macro averages as the classes are imbalanced.\n",
    "    '''\n",
    "    return {\n",
    "        \"F1_micro\": f1_score(labels, predictions, average='micro'),\n",
    "        \"F1_macro\": f1_score(labels, predictions, average='macro'),\n",
    "        \"F1_weighted\": f1_score(labels, predictions, average='weighted'),\n",
    "        \"Precision_macro\": precision_score(labels, predictions, average='macro'),\n",
    "        \"Recall_macro\": recall_score(labels, predictions, average='macro'),\n",
    "        \"ROC_macro\": roc_auc_score(labels, predictions, average = 'macro'),\n",
    "        \"Accuracy\": accuracy_score(labels, predictions),\n",
    "    }"
   ]
  },
  {
   "cell_type": "code",
   "execution_count": null,
   "metadata": {},
   "outputs": [
    {
     "name": "stdout",
     "output_type": "stream",
     "text": [
      "Evaluation metrics:\n",
      " {'F1_micro': 0.9619952494061758, 'F1_macro': 0.961986187825817, 'F1_weighted': 0.9620057050758204, 'Precision_macro': 0.9620373504852178, 'Recall_macro': 0.962546245304866, 'ROC_macro': 0.9625462453048659, 'Accuracy': 0.9619952494061758}\n"
     ]
    }
   ],
   "source": [
    "# Evaluate model predictions againt references, if EVALUATE is True\n",
    "if EVALUATE:\n",
    "    evaluation_results = compute_metrics(predictions, labels)\n",
    "    print('Evaluation metrics:\\n', evaluation_results)"
   ]
  }
 ],
 "metadata": {
  "kernelspec": {
   "display_name": "base",
   "language": "python",
   "name": "python3"
  },
  "language_info": {
   "codemirror_mode": {
    "name": "ipython",
    "version": 3
   },
   "file_extension": ".py",
   "mimetype": "text/x-python",
   "name": "python",
   "nbconvert_exporter": "python",
   "pygments_lexer": "ipython3",
   "version": "3.10.14"
  }
 },
 "nbformat": 4,
 "nbformat_minor": 2
}
