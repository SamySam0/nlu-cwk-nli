{
 "cells": [
  {
   "cell_type": "markdown",
   "metadata": {},
   "source": [
    "## Setup"
   ]
  },
  {
   "cell_type": "code",
   "execution_count": 1,
   "metadata": {},
   "outputs": [],
   "source": [
    "# Dependencies to run the notebook \n",
    "# Uncomment below to install - may require additional installations depending on your python version\n",
    "\n",
    "# python version == 3.10.14\n",
    "# %pip install torch transformers peft datasets scikit-learn wandb accelerate -U --quiet"
   ]
  },
  {
   "cell_type": "code",
   "execution_count": 2,
   "metadata": {},
   "outputs": [],
   "source": [
    "import torch\n",
    "import numpy as np\n",
    "from sklearn.metrics import f1_score, precision_score, recall_score, roc_auc_score, accuracy_score\n",
    "from datasets import load_dataset\n",
    "from peft import PeftModel\n",
    "from transformers import RobertaTokenizerFast, DataCollatorWithPadding, RobertaForSequenceClassification, Trainer"
   ]
  },
  {
   "cell_type": "code",
   "execution_count": 3,
   "metadata": {},
   "outputs": [],
   "source": [
    "# Pretrained model's name from HuggingFace\n",
    "PT_MODEL_NAME = 'roberta-large'\n",
    "\n",
    "# Fine-tuned model path (best model)\n",
    "FT_MODEL_PATH = './LoRA/Final-model'\n",
    "\n",
    "# Path to dataset in which the test file (xxx.csv) is located\n",
    "DATASET_PATH = './data'\n",
    "TEST_FILE_NAME = 'test.csv'\n",
    "\n",
    "# Path to save the predictions\n",
    "PREDICTION_PATH = './LoRA'"
   ]
  },
  {
   "cell_type": "code",
   "execution_count": 4,
   "metadata": {},
   "outputs": [],
   "source": [
    "# Do evaluation on top of predictions?\n",
    "EVALUATE = False"
   ]
  },
  {
   "cell_type": "markdown",
   "metadata": {},
   "source": [
    "## Data preparation"
   ]
  },
  {
   "cell_type": "code",
   "execution_count": 5,
   "metadata": {},
   "outputs": [
    {
     "data": {
      "text/plain": [
       "DatasetDict({\n",
       "    test: Dataset({\n",
       "        features: ['premise', 'hypothesis'],\n",
       "        num_rows: 3302\n",
       "    })\n",
       "})"
      ]
     },
     "execution_count": 5,
     "metadata": {},
     "output_type": "execute_result"
    }
   ],
   "source": [
    "# Load testing dataset from csv file as a DatasetDict\n",
    "data_files = {\"test\": TEST_FILE_NAME}\n",
    "dataset = load_dataset(\"csv\", data_dir=DATASET_PATH, data_files=data_files)\n",
    "dataset"
   ]
  },
  {
   "cell_type": "code",
   "execution_count": 6,
   "metadata": {},
   "outputs": [],
   "source": [
    "# Load model's tokenizer\n",
    "tokenizer = RobertaTokenizerFast.from_pretrained(PT_MODEL_NAME)"
   ]
  },
  {
   "cell_type": "code",
   "execution_count": 7,
   "metadata": {},
   "outputs": [],
   "source": [
    "# Load data processing functions\n",
    "def text_preprocessing(samples):\n",
    "    ''' Replace None instances in hypothesis by empty strings. '''\n",
    "    samples['hypothesis'] = \"\" if samples['hypothesis'] is None else samples['hypothesis']\n",
    "    return samples\n",
    "\n",
    "def text_tokenization(samples):\n",
    "    ''' Tokenize the premise and hypothesis into sentence pair classification format. '''\n",
    "    return tokenizer(samples['premise'], samples['hypothesis'], truncation=True)"
   ]
  },
  {
   "cell_type": "code",
   "execution_count": 8,
   "metadata": {},
   "outputs": [
    {
     "data": {
      "text/plain": [
       "DatasetDict({\n",
       "    test: Dataset({\n",
       "        features: ['input_ids', 'attention_mask'],\n",
       "        num_rows: 3302\n",
       "    })\n",
       "})"
      ]
     },
     "execution_count": 8,
     "metadata": {},
     "output_type": "execute_result"
    }
   ],
   "source": [
    "# Preprocess texts (hypothesis)\n",
    "dataset = dataset.map(text_preprocessing, batched=False)\n",
    "\n",
    "# Tokenize dataset (premises and hypothesis) for sentence pair classification\n",
    "tokenized_dataset = dataset.map(text_tokenization, batched=True, remove_columns=['premise', 'hypothesis'])\n",
    "tokenized_dataset"
   ]
  },
  {
   "cell_type": "markdown",
   "metadata": {},
   "source": [
    "## Predict with LoRA model"
   ]
  },
  {
   "cell_type": "code",
   "execution_count": null,
   "metadata": {},
   "outputs": [],
   "source": [
    "# Load pretrained model\n",
    "pretrained_model = RobertaForSequenceClassification.from_pretrained(\n",
    "    PT_MODEL_NAME, num_labels=2, device_map='cuda' if torch.cuda.is_available() else 'cpu',\n",
    ")\n",
    "\n",
    "# Add-in trained LoRA layers\n",
    "model = PeftModel.from_pretrained(\n",
    "    pretrained_model, FT_MODEL_PATH, device_map='cuda' if torch.cuda.is_available() else 'cpu',\n",
    ")"
   ]
  },
  {
   "cell_type": "code",
   "execution_count": null,
   "metadata": {},
   "outputs": [],
   "source": [
    "# Prepare the trained model to predict on test data\n",
    "trainer = Trainer(\n",
    "    model=model,\n",
    "    data_collator=DataCollatorWithPadding(tokenizer),\n",
    ")\n",
    "\n",
    "# Get model predictions on testing data\n",
    "logits = trainer.predict(tokenized_dataset['test']).predictions\n",
    "predictions = np.argmax(logits, axis=-1)"
   ]
  },
  {
   "cell_type": "code",
   "execution_count": 11,
   "metadata": {},
   "outputs": [],
   "source": [
    "# Write predictions to a csv file with one column (prediction)\n",
    "with open(f'{PREDICTION_PATH}/lora-predictions.csv', 'w') as f:\n",
    "    f.write('prediction\\n')\n",
    "    for pred in predictions:\n",
    "        f.write(f'{pred}\\n')"
   ]
  },
  {
   "cell_type": "code",
   "execution_count": 19,
   "metadata": {},
   "outputs": [
    {
     "name": "stdout",
     "output_type": "stream",
     "text": [
      "Premise: Boy wearing red hat, blue jacket pushing plow in snow.\n",
      "Hypothesis: The boy is surrounded by snow\n",
      "Prediction: 1 \n",
      "\n",
      "Premise: A blond woman in a black shirt is standing behind a counter.\n",
      "Hypothesis: The woman is standing.\n",
      "Prediction: 1 \n",
      "\n",
      "Premise: Three people in uniform are outdoors and are observing a scene which is out of the picture.\n",
      "Hypothesis: Uniformed people are outside\n",
      "Prediction: 1 \n",
      "\n",
      "Premise: A person, in a striped blue shirt and pants, is running along.\n",
      "Hypothesis: The person is running\n",
      "Prediction: 1 \n",
      "\n",
      "Premise: A man, woman, and child get their picture taken in front of the mountains.\n",
      "Hypothesis: A family on vacation is posing.\n",
      "Prediction: 1 \n",
      "\n"
     ]
    }
   ],
   "source": [
    "# Peacking at the first four predictions\n",
    "for i in range(5):\n",
    "    print('Premise:', dataset['test'][i]['premise'])\n",
    "    print('Hypothesis:', dataset['test'][i]['hypothesis'])\n",
    "    print('Prediction:', predictions[i], '\\n')"
   ]
  },
  {
   "cell_type": "markdown",
   "metadata": {},
   "source": [
    "## Evaluation (optional)"
   ]
  },
  {
   "cell_type": "code",
   "execution_count": 13,
   "metadata": {},
   "outputs": [],
   "source": [
    "def compute_metrics(predictions, labels):\n",
    "    ''' Function to calculate metrics given model predictions and expected labels. \n",
    "        Metrics: F1 (micro/macro/wei), Precision (macro), Recall (macro), ROC (macro), and Accuracy.\n",
    "        We use macro averages as the classes are imbalanced.\n",
    "    '''\n",
    "    return {\n",
    "        \"F1_micro\": f1_score(labels, predictions, average='micro'),\n",
    "        \"F1_macro\": f1_score(labels, predictions, average='macro'),\n",
    "        \"F1_weighted\": f1_score(labels, predictions, average='weighted'),\n",
    "        \"Precision_macro\": precision_score(labels, predictions, average='macro'),\n",
    "        \"Recall_macro\": recall_score(labels, predictions, average='macro'),\n",
    "        \"ROC_macro\": roc_auc_score(labels, predictions, average = 'macro'),\n",
    "        \"Accuracy\": accuracy_score(labels, predictions),\n",
    "    }"
   ]
  },
  {
   "cell_type": "code",
   "execution_count": 14,
   "metadata": {},
   "outputs": [],
   "source": [
    "# Evaluate model predictions againt references, if EVALUATE is True\n",
    "if EVALUATE:\n",
    "    evaluation_results = compute_metrics(predictions, tokenized_dataset['test']['label'])\n",
    "    print('Evaluation metrics:\\n', evaluation_results)"
   ]
  }
 ],
 "metadata": {
  "kernelspec": {
   "display_name": "base",
   "language": "python",
   "name": "python3"
  },
  "language_info": {
   "codemirror_mode": {
    "name": "ipython",
    "version": 3
   },
   "file_extension": ".py",
   "mimetype": "text/x-python",
   "name": "python",
   "nbconvert_exporter": "python",
   "pygments_lexer": "ipython3",
   "version": "3.11.7"
  }
 },
 "nbformat": 4,
 "nbformat_minor": 2
}
